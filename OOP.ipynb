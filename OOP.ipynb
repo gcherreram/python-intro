{
 "cells": [
  {
   "cell_type": "code",
   "execution_count": 2,
   "id": "2be7ed2f-38c9-4c33-a7f2-edc252862040",
   "metadata": {},
   "outputs": [
    {
     "name": "stdout",
     "output_type": "stream",
     "text": [
      "Número = 1\n",
      "Director = Jose Rendon\n",
      "Cliente =  Bayer\n",
      "\n",
      "Número = 2\n",
      "Director =  David Bermudez\n",
      "Cliente =  Pfizer\n",
      "\n",
      "Número = 3\n",
      "Director =  Pepito Perez\n",
      "Cliente =  Davivienda\n"
     ]
    }
   ],
   "source": [
    "class Entidad (object):\n",
    "    def __init__(self, numero, director, cliente):\n",
    "        self.numero = numero\n",
    "        self.director = director\n",
    "        self.cliente = cliente\n",
    "\n",
    "    def mostrar (self):\n",
    "        print('Número =', self.numero)\n",
    "        print('Director =', self.director)\n",
    "        print('Cliente =', self.cliente)\n",
    "\n",
    "lineas = open(\"personas.txt\").readlines()\n",
    "lista_entidades = list()\n",
    "\n",
    "for l in lineas:\n",
    "    datos = l.split(';')\n",
    "    p = Entidad (datos[0], datos[1], datos[2])\n",
    "    lista_entidades.append(p)\n",
    "\n",
    "for p in lista_entidades:\n",
    "    p.mostrar()\n",
    "    "
   ]
  },
  {
   "cell_type": "markdown",
   "id": "d8e484c6-2993-4468-a8bc-d7e2b2afe70d",
   "metadata": {},
   "source": [
    "\r",
    "### SE PIDE\n",
    "\r\n",
    "\r\n",
    "Crear una clase llamada Perros que contiene el nombre, el peso y los métodos de obtener los atributos anteriores.\r\n",
    "\r\n",
    "Para obtener los datos que vamos a guardar de cada perro deberemos leer la información de un fichero llamado ANIMALES.txt, su contenido es una línea con los datos de cada perro.\r\n",
    "\r\n",
    "Vamos a usar la clase Perros para crear una estructura /COLECCIÓN (la que mejor os venga) y guardar en ella perros y mostrar cuál de ellos pesa más (nombre y peso).\r\n"
   ]
  },
  {
   "cell_type": "code",
   "execution_count": null,
   "id": "d07d82a6-b415-409d-9337-1a8a2aaeff91",
   "metadata": {},
   "outputs": [],
   "source": [
    "class perro():\n",
    "    def __init__(self, nombre, peso):\n",
    "        self.nombre = nombre\n",
    "        self.peso = peso\n",
    "\n",
    "    def getnombre(self):\n",
    "        return(self.nombre)\n",
    "\n",
    "    def getpeso(self):\n",
    "        return(self.peso)\n",
    "\n",
    "    def __str__(self):\n",
    "        print(\"Nombre:\", self.nombre,\" - Peso\", self.peso)\n",
    "\n",
    "listaperros = []\n",
    "\n",
    "try:\n",
    "    if os.path.isfile(\"ANIMALES.csv\"):\n",
    "        with open(\"ANIMALES.csv\", \"r\") as leerf:\n",
    "            r = csv.reader(leerf)\n",
    "            for i in r:\n",
    "                dato = i[0].split(@)\n",
    "                perro = perros(dato[0], dato[1])\n",
    "                listaperros.append(perro)\n",
    "    else:\n",
    "        print(\"El fichero no existe\")\n",
    "\n",
    "except IOError:\n",
    "    print(\"Error en el nombre del fichero\")\n",
    "\n",
    "pesado = listaperros[0]\n",
    "\n",
    "for i in listaperros:\n",
    "    if pesado.getpeso() > i.getpeso()):\n",
    "        pesado = i\n",
    "\n",
    "print (\"\\nPerro más Pesado: \" + pesado.getnombre() + \"-\" pesado.getpeso())"
   ]
  }
 ],
 "metadata": {
  "kernelspec": {
   "display_name": "Python 3 (ipykernel)",
   "language": "python",
   "name": "python3"
  },
  "language_info": {
   "codemirror_mode": {
    "name": "ipython",
    "version": 3
   },
   "file_extension": ".py",
   "mimetype": "text/x-python",
   "name": "python",
   "nbconvert_exporter": "python",
   "pygments_lexer": "ipython3",
   "version": "3.12.3"
  }
 },
 "nbformat": 4,
 "nbformat_minor": 5
}
