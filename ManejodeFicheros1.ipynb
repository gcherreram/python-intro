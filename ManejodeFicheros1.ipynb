{
 "cells": [
  {
   "cell_type": "code",
   "execution_count": 26,
   "id": "139529d5-0aff-41c0-b872-cbbad8a502d7",
   "metadata": {
    "editable": true,
    "slideshow": {
     "slide_type": ""
    },
    "tags": []
   },
   "outputs": [],
   "source": [
    "archivo = open(\"notas.txt\")"
   ]
  },
  {
   "cell_type": "code",
   "execution_count": 28,
   "id": "edd06c94-2e9d-4a2d-9a12-80f92969fdff",
   "metadata": {},
   "outputs": [
    {
     "name": "stdout",
     "output_type": "stream",
     "text": [
      "Pepito Aprobado\n",
      "Yayita Aprobado\n",
      "Fulanita Aprobado\n",
      "Moya Reprobado\n"
     ]
    }
   ],
   "source": [
    "for linea in archivo:\n",
    "    linea_spliteada = linea.strip().split(\":\")\n",
    "    nombre = linea_spliteada[0]\n",
    "    notas = map(float, linea_spliteada[1:])\n",
    "    notas = list(map(float, linea_spliteada[1:]))\n",
    "    promedio = sum(notas)/len(notas)\n",
    "    if promedio <4:\n",
    "        print(nombre, \"Reprobado\")\n",
    "    else:\n",
    "        print(nombre, \"Aprobado\")\n",
    "        \n",
    "archivo.close()"
   ]
  },
  {
   "cell_type": "code",
   "execution_count": null,
   "id": "524fe874-6929-4117-85bd-c6db55ffd350",
   "metadata": {},
   "outputs": [],
   "source": []
  }
 ],
 "metadata": {
  "kernelspec": {
   "display_name": "Python 3 (ipykernel)",
   "language": "python",
   "name": "python3"
  },
  "language_info": {
   "codemirror_mode": {
    "name": "ipython",
    "version": 3
   },
   "file_extension": ".py",
   "mimetype": "text/x-python",
   "name": "python",
   "nbconvert_exporter": "python",
   "pygments_lexer": "ipython3",
   "version": "3.12.3"
  }
 },
 "nbformat": 4,
 "nbformat_minor": 5
}
